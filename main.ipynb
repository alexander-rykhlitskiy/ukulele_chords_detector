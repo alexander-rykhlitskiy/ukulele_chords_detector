{
 "cells": [
  {
   "cell_type": "code",
   "execution_count": 1,
   "metadata": {},
   "outputs": [],
   "source": [
    "from __future__ import absolute_import, division, print_function, unicode_literals\n",
    "import numpy as np\n",
    "import matplotlib.pyplot as plt\n",
    "\n",
    "from scipy.io import wavfile\n",
    "import os\n",
    "\n",
    "# TensorFlow and tf.keras\n",
    "import tensorflow as tf\n",
    "from tensorflow import keras\n",
    "import glob\n",
    "\n",
    "FREQUENCIES_COUNT = 50000\n",
    "# https://stackoverflow.com/questions/25876640/subsampling-every-nth-entry-in-a-numpy-array\n",
    "EACH_N_ELEMENT = 10\n",
    "\n",
    "# https://stackoverflow.com/questions/53308674/audio-frequencies-in-python\n",
    "def read_wav(wav_file_name):\n",
    "    sr, signal = wavfile.read(wav_file_name)\n",
    "    return (sr, signal[:FREQUENCIES_COUNT:EACH_N_ELEMENT, 0]) # use the first channel (or take their average, alternatively)\n",
    "\n",
    "def fetch_frequencies(wav_file_name):\n",
    "    sr, y = read_wav(wav_file_name)\n",
    "    return y\n",
    "\n",
    "def show_frequency_spectrum(wav_file_name):\n",
    "    sr, y = read_wav(wav_file_name)\n",
    "    t = np.arange(len(y)) / float(sr)\n",
    "\n",
    "    plt.figure()\n",
    "    plt.subplot(2, 1, 1)\n",
    "    plt.plot(t, y)\n",
    "    plt.xlabel('t')\n",
    "    plt.ylabel('y')\n",
    "    axes = plt.gca()\n",
    "    axes.set_ylim([-1e9,1e9])\n",
    "\n",
    "    plt.show()\n",
    "\n",
    "\n"
   ]
  },
  {
   "cell_type": "code",
   "execution_count": 2,
   "metadata": {},
   "outputs": [
    {
     "data": {
      "image/png": "[encoded data removed]",
      "text/plain": [
       "<Figure size 432x288 with 1 Axes>"
      ]
     },
     "metadata": {
      "needs_background": "light"
     },
     "output_type": "display_data"
    }
   ],
   "source": [
    "show_frequency_spectrum('samples/A/train/1_out_of_tune/splitted_chord007.wav')"
   ]
  },
  {
   "cell_type": "code",
   "execution_count": 3,
   "metadata": {},
   "outputs": [
    {
     "data": {
      "image/png": "[encoded data removed]",
      "text/plain": [
       "<Figure size 432x288 with 1 Axes>"
      ]
     },
     "metadata": {
      "needs_background": "light"
     },
     "output_type": "display_data"
    }
   ],
   "source": [
    "show_frequency_spectrum('samples/C/train/1/splitted_chord007.wav')"
   ]
  },
  {
   "cell_type": "code",
   "execution_count": 4,
   "metadata": {
    "lines_to_next_cell": 1
   },
   "outputs": [
    {
     "data": {
      "image/png": "[encoded data removed]",
      "text/plain": [
       "<Figure size 432x288 with 1 Axes>"
      ]
     },
     "metadata": {
      "needs_background": "light"
     },
     "output_type": "display_data"
    }
   ],
   "source": [
    "show_frequency_spectrum('samples/E/train/1/splitted_chord007.wav')"
   ]
  },
  {
   "cell_type": "code",
   "execution_count": 5,
   "metadata": {},
   "outputs": [],
   "source": [
    "def files_to_tensors(files):\n",
    "    return tf.convert_to_tensor([tf.convert_to_tensor(fetch_frequencies(file), np.int32) for file in files])\n",
    "\n",
    "\n"
   ]
  },
  {
   "cell_type": "code",
   "execution_count": 6,
   "metadata": {},
   "outputs": [],
   "source": [
    "model = keras.Sequential([\n",
    "    keras.layers.Dense(FREQUENCIES_COUNT),\n",
    "    keras.layers.Dense(128, activation='relu'),\n",
    "    keras.layers.Dense(3, activation='softmax')\n",
    "])\n",
    "model.compile(optimizer='adam',\n",
    "              loss='sparse_categorical_crossentropy',\n",
    "              metrics=['accuracy'])"
   ]
  },
  {
   "cell_type": "code",
   "execution_count": 7,
   "metadata": {},
   "outputs": [],
   "source": [
    "a_train_files = glob.glob(\"samples/A/train/*/*.wav\")\n",
    "c_train_files = glob.glob(\"samples/C/train/*/*.wav\")\n",
    "e_train_files = glob.glob(\"samples/E/train/*/*.wav\")\n",
    "\n",
    "train_files_data = files_to_tensors(a_train_files + c_train_files + e_train_files)\n",
    "labels_values = {'A': 0, 'C': 1, 'E': 2}\n",
    "labels_names = {v: k for k, v in labels_values.items()}\n",
    "train_labels = tf.convert_to_tensor([labels_values['A']] * len(a_train_files) + [labels_values['C']] * len(c_train_files) + [labels_values['E']] * len(e_train_files), np.int32)"
   ]
  },
  {
   "cell_type": "code",
   "execution_count": 8,
   "metadata": {
    "scrolled": true
   },
   "outputs": [
    {
     "name": "stdout",
     "output_type": "stream",
     "text": [
      "Train on 93 samples\n",
      "Epoch 1/5\n",
      "93/93 [==============================] - 5s 57ms/sample - loss: 1852508622.4516 - accuracy: 0.3871\n",
      "Epoch 2/5\n",
      "93/93 [==============================] - 4s 46ms/sample - loss: 1707235259.8710 - accuracy: 0.7527\n",
      "Epoch 3/5\n",
      "93/93 [==============================] - 4s 46ms/sample - loss: 593924131.7849 - accuracy: 0.8817\n",
      "Epoch 4/5\n",
      "93/93 [==============================] - 4s 47ms/sample - loss: 105895070.2366 - accuracy: 0.9355\n",
      "Epoch 5/5\n",
      "93/93 [==============================] - 6s 60ms/sample - loss: 434884005.1613 - accuracy: 0.9570\n"
     ]
    },
    {
     "data": {
      "text/plain": [
       "<tensorflow.python.keras.callbacks.History at 0x7fb85421b3c8>"
      ]
     },
     "execution_count": 8,
     "metadata": {},
     "output_type": "execute_result"
    }
   ],
   "source": [
    "model.fit(train_files_data, train_labels, epochs=5)"
   ]
  },
  {
   "cell_type": "code",
   "execution_count": 9,
   "metadata": {},
   "outputs": [
    {
     "name": "stdout",
     "output_type": "stream",
     "text": [
      "A - samples/A/test/1_out_of_tune/splitted_chord001.wav\n",
      "A - samples/A/test/1_out_of_tune/splitted_chord003.wav\n",
      "C - samples/A/test/1_out_of_tune/splitted_chord002.wav\n",
      "C - samples/C/test/2/splitted_chord001.wav\n",
      "C - samples/C/test/2/splitted_chord003.wav\n",
      "C - samples/C/test/2/splitted_chord002.wav\n",
      "C - samples/C/test/2/splitted_chord004.wav\n",
      "E - samples/C/test/1/splitted_chord001.wav\n",
      "C - samples/C/test/1/splitted_chord003.wav\n",
      "C - samples/C/test/1/splitted_chord002.wav\n",
      "C - samples/E/test/1/splitted_chord001.wav\n",
      "E - samples/E/test/1/splitted_chord005.wav\n",
      "C - samples/E/test/1/splitted_chord002.wav\n",
      "E - samples/E/test/1/splitted_chord004.wav\n"
     ]
    }
   ],
   "source": [
    "def test_files(files):\n",
    "    test_files_data = files_to_tensors(files)\n",
    "    for idx, prediction in enumerate(model.predict(test_files_data)):\n",
    "        print(f'{labels_names[list(prediction).index(1)]} - {files[idx]}')\n",
    "\n",
    "a_test_files = glob.glob(\"samples/A/test/*/*.wav\")\n",
    "c_test_files = glob.glob(\"samples/C/test/*/*.wav\")\n",
    "e_test_files = glob.glob(\"samples/E/test/*/*.wav\")\n",
    "\n",
    "test_files(a_test_files + c_test_files + e_test_files)"
   ]
  },
  {
   "cell_type": "code",
   "execution_count": 10,
   "metadata": {},
   "outputs": [
    {
     "name": "stdout",
     "output_type": "stream",
     "text": [
      "A - samples/A/train/1_out_of_tune/splitted_chord009.wav\n"
     ]
    }
   ],
   "source": [
    "test_files(['samples/A/train/1_out_of_tune/splitted_chord009.wav'])"
   ]
  },
  {
   "cell_type": "code",
   "execution_count": null,
   "metadata": {},
   "outputs": [],
   "source": []
  }
 ],
 "metadata": {
  "jupytext": {
   "formats": "ipynb,py:light"
  },
  "kernelspec": {
   "display_name": "Python 3",
   "language": "python",
   "name": "python3"
  },
  "language_info": {
   "codemirror_mode": {
    "name": "ipython",
    "version": 3
   },
   "file_extension": ".py",
   "mimetype": "text/x-python",
   "name": "python",
   "nbconvert_exporter": "python",
   "pygments_lexer": "ipython3",
   "version": "3.7.3"
  }
 },
 "nbformat": 4,
 "nbformat_minor": 2
}
