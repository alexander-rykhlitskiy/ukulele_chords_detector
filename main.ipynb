{
 "cells": [
  {
   "cell_type": "code",
   "execution_count": 1,
   "metadata": {},
   "outputs": [],
   "source": [
    "import numpy as np\n",
    "import matplotlib.pyplot as plt\n",
    "\n",
    "from scipy.io import wavfile\n",
    "import os\n",
    "\n",
    "FREQUENCIES_COUNT = 50000\n",
    "# https://stackoverflow.com/questions/25876640/subsampling-every-nth-entry-in-a-numpy-array\n",
    "EACH_N_ELEMENT = 10\n",
    "\n",
    "# https://stackoverflow.com/questions/53308674/audio-frequencies-in-python\n",
    "def read_wav(wav_file_name):\n",
    "    sr, signal = wavfile.read(wav_file_name)\n",
    "    return (sr, signal[:FREQUENCIES_COUNT:EACH_N_ELEMENT, 0]) # use the first channel (or take their average, alternatively)\n",
    "\n",
    "def fetch_frequencies(wav_file_name):\n",
    "    sr, y = read_wav(wav_file_name)\n",
    "    return y\n",
    "\n",
    "def show_frequency_spectrum(wav_file_name):\n",
    "    sr, y = read_wav(wav_file_name)\n",
    "    t = np.arange(len(y)) / float(sr)\n",
    "    \n",
    "    plt.figure()\n",
    "    plt.subplot(2, 1, 1)\n",
    "    plt.plot(t, y)\n",
    "    plt.xlabel('t')\n",
    "    plt.ylabel('y')\n",
    "\n",
    "    plt.show()\n"
   ]
  },
  {
   "cell_type": "code",
   "execution_count": 2,
   "metadata": {},
   "outputs": [
    {
     "data": {
      "image/png": "[encoded data removed]",
      "text/plain": [
       "<Figure size 432x288 with 1 Axes>"
      ]
     },
     "metadata": {
      "needs_background": "light"
     },
     "output_type": "display_data"
    }
   ],
   "source": [
    "show_frequency_spectrum('samples/C/train/1/splitted_chord007.wav')"
   ]
  },
  {
   "cell_type": "code",
   "execution_count": 3,
   "metadata": {},
   "outputs": [
    {
     "data": {
      "image/png": "[encoded data removed]",
      "text/plain": [
       "<Figure size 432x288 with 1 Axes>"
      ]
     },
     "metadata": {
      "needs_background": "light"
     },
     "output_type": "display_data"
    }
   ],
   "source": [
    "show_frequency_spectrum('samples/A/train/1/splitted_chord007.wav')"
   ]
  },
  {
   "cell_type": "code",
   "execution_count": 4,
   "metadata": {},
   "outputs": [
    {
     "name": "stdout",
     "output_type": "stream",
     "text": [
      "2.0.0\n"
     ]
    }
   ],
   "source": [
    "from __future__ import absolute_import, division, print_function, unicode_literals\n",
    "\n",
    "# TensorFlow and tf.keras\n",
    "import tensorflow as tf\n",
    "from tensorflow import keras\n",
    "\n",
    "# Helper libraries\n",
    "import numpy as np\n",
    "import matplotlib.pyplot as plt\n",
    "\n",
    "print(tf.__version__)"
   ]
  },
  {
   "cell_type": "code",
   "execution_count": 5,
   "metadata": {},
   "outputs": [],
   "source": [
    "model = keras.Sequential([\n",
    "    keras.layers.Dense(FREQUENCIES_COUNT),\n",
    "    keras.layers.Dense(128, activation='relu'),\n",
    "    keras.layers.Dense(2, activation='softmax')\n",
    "])\n",
    "model.compile(optimizer='adam',\n",
    "              loss='sparse_categorical_crossentropy',\n",
    "              metrics=['accuracy'])"
   ]
  },
  {
   "cell_type": "code",
   "execution_count": 6,
   "metadata": {
    "scrolled": true
   },
   "outputs": [],
   "source": [
    "import glob\n",
    "\n",
    "a_train_files = glob.glob(\"samples/A/train/*/*.wav\")\n",
    "c_train_files = glob.glob(\"samples/C/train/*/*.wav\")\n",
    "\n",
    "train_files  = a_train_files + c_train_files\n",
    "train_files_data = tf.convert_to_tensor([tf.convert_to_tensor(fetch_frequencies(file), np.int32) for file in train_files])\n",
    "labels = {'A': 1, 'C': 0}\n",
    "train_labels = tf.convert_to_tensor([labels['A']] * len(a_train_files) + [labels['C']] * len(c_train_files), np.int32)"
   ]
  },
  {
   "cell_type": "code",
   "execution_count": 7,
   "metadata": {
    "scrolled": true
   },
   "outputs": [
    {
     "name": "stdout",
     "output_type": "stream",
     "text": [
      "Train on 51 samples\n",
      "Epoch 1/7\n",
      "51/51 [==============================] - 4s 87ms/sample - loss: 2464907906.5098 - accuracy: 0.3922\n",
      "Epoch 2/7\n",
      "51/51 [==============================] - 3s 59ms/sample - loss: 4298139269.0196 - accuracy: 0.5490\n",
      "Epoch 3/7\n",
      "51/51 [==============================] - 3s 60ms/sample - loss: 83017301.6471 - accuracy: 0.9216\n",
      "Epoch 4/7\n",
      "51/51 [==============================] - 3s 57ms/sample - loss: 338137498.3529 - accuracy: 0.9412\n",
      "Epoch 5/7\n",
      "51/51 [==============================] - 3s 55ms/sample - loss: 72408576.0000 - accuracy: 0.9804\n",
      "Epoch 6/7\n",
      "51/51 [==============================] - 3s 56ms/sample - loss: 169136569.7255 - accuracy: 0.9412\n",
      "Epoch 7/7\n",
      "51/51 [==============================] - 3s 54ms/sample - loss: 0.0000e+00 - accuracy: 1.0000\n"
     ]
    },
    {
     "data": {
      "text/plain": [
       "<tensorflow.python.keras.callbacks.History at 0x7f1fc0195208>"
      ]
     },
     "execution_count": 7,
     "metadata": {},
     "output_type": "execute_result"
    }
   ],
   "source": [
    "model.fit(train_files_data, train_labels, epochs=7)"
   ]
  },
  {
   "cell_type": "code",
   "execution_count": 9,
   "metadata": {},
   "outputs": [
    {
     "data": {
      "text/plain": [
       "array([[0., 1.],\n",
       "       [0., 1.],\n",
       "       [0., 1.],\n",
       "       [1., 0.],\n",
       "       [1., 0.],\n",
       "       [1., 0.]], dtype=float32)"
      ]
     },
     "execution_count": 9,
     "metadata": {},
     "output_type": "execute_result"
    }
   ],
   "source": [
    "a_test_files = glob.glob(\"samples/A/test/*.wav\")\n",
    "c_test_files = glob.glob(\"samples/C/test/*.wav\")\n",
    "\n",
    "test_files  = a_test_files + c_test_files\n",
    "train_files_data = tf.convert_to_tensor([tf.convert_to_tensor(fetch_frequencies(file), np.int32) for file in test_files])\n",
    "\n",
    "model.predict(train_files_data)"
   ]
  },
  {
   "cell_type": "code",
   "execution_count": null,
   "metadata": {},
   "outputs": [],
   "source": []
  }
 ],
 "metadata": {
  "kernelspec": {
   "display_name": "Python 3",
   "language": "python",
   "name": "python3"
  },
  "language_info": {
   "codemirror_mode": {
    "name": "ipython",
    "version": 3
   },
   "file_extension": ".py",
   "mimetype": "text/x-python",
   "name": "python",
   "nbconvert_exporter": "python",
   "pygments_lexer": "ipython3",
   "version": "3.7.3"
  }
 },
 "nbformat": 4,
 "nbformat_minor": 2
}
